{
 "cells": [
  {
   "cell_type": "code",
   "execution_count": 1,
   "metadata": {},
   "outputs": [],
   "source": [
    "import random\n",
    "import pandas as pd\n",
    "import numpy as np\n",
    "from sklearn.linear_model import LogisticRegression\n",
    "from PathwayAnalysis import PathwayAnalysis\n",
    "N = 5\n",
    "to_name = pd.read_csv('gene_data/genes.csv').set_index(\"code\")[\"name\"].to_dict()\n",
    "to_ensembl = pd.read_csv('gene_data/genes.csv').set_index(\"name\")[\"code\"].to_dict()"
   ]
  },
  {
   "cell_type": "markdown",
   "metadata": {},
   "source": [
    "### Suppose we select N genes and use their counts to make a case-ctrl prediction via logistic regression.  Is the prediction accuracy higher if the genes are on the same pathway?\n",
    "\n",
    "First we load a dictionary that maps pathways (keys) to values (lists of genes)"
   ]
  },
  {
   "cell_type": "code",
   "execution_count": 2,
   "metadata": {},
   "outputs": [
    {
     "name": "stderr",
     "output_type": "stream",
     "text": [
      "100%|██████████| 71/71 [00:26<00:00,  2.67it/s]\n",
      "/home/punky/Documents/PE_graphing/PIRM/PIRMDiscovery.py:471: RuntimeWarning: invalid value encountered in divide\n",
      "  mcc = ((tn*tp)-(fp*fn))/(((tn+fn)*(fp+tp)*(tn+fp)*(fn+tp))**.5)\n",
      "/home/punky/Documents/PE_graphing/PIRM/PIRMDiscovery.py:471: RuntimeWarning: invalid value encountered in divide\n",
      "  mcc = ((tn*tp)-(fp*fn))/(((tn+fn)*(fp+tp)*(tn+fp)*(fn+tp))**.5)\n",
      "/home/punky/Documents/PE_graphing/PIRM/PIRMDiscovery.py:471: RuntimeWarning: invalid value encountered in divide\n",
      "  mcc = ((tn*tp)-(fp*fn))/(((tn+fn)*(fp+tp)*(tn+fp)*(fn+tp))**.5)\n",
      "/home/punky/Documents/PE_graphing/PIRM/PIRMDiscovery.py:471: RuntimeWarning: invalid value encountered in divide\n",
      "  mcc = ((tn*tp)-(fp*fn))/(((tn+fn)*(fp+tp)*(tn+fp)*(fn+tp))**.5)\n",
      "/home/punky/Documents/PE_graphing/PIRM/PIRMDiscovery.py:471: RuntimeWarning: invalid value encountered in divide\n",
      "  mcc = ((tn*tp)-(fp*fn))/(((tn+fn)*(fp+tp)*(tn+fp)*(fn+tp))**.5)\n",
      "/home/punky/Documents/PE_graphing/PIRM/PIRMDiscovery.py:471: RuntimeWarning: invalid value encountered in divide\n",
      "  mcc = ((tn*tp)-(fp*fn))/(((tn+fn)*(fp+tp)*(tn+fp)*(fn+tp))**.5)\n"
     ]
    }
   ],
   "source": [
    "p = PathwayAnalysis(\n",
    "    gene_path=\"gene_data/genes.csv\",\n",
    "    rnacounts_path=\"gene_data/pe-rna-counts.csv\",\n",
    "    metadata_path=\"gene_data/pe-rna-metadata.csv\",\n",
    ")"
   ]
  },
  {
   "cell_type": "code",
   "execution_count": 3,
   "metadata": {},
   "outputs": [],
   "source": [
    "pathways_with_min_N_genes = [pathway for pathway, genes in p.pathways_to_genes.items() if len(genes)>N]"
   ]
  },
  {
   "cell_type": "markdown",
   "metadata": {},
   "source": [
    "Then we get N genes all from the same pathway"
   ]
  },
  {
   "cell_type": "code",
   "execution_count": 4,
   "metadata": {},
   "outputs": [
    {
     "data": {
      "text/plain": [
       "['TNF', 'VEGFC', 'VEGFA', 'VEGFB', 'LEP']"
      ]
     },
     "execution_count": 4,
     "metadata": {},
     "output_type": "execute_result"
    }
   ],
   "source": [
    "same_pathway_genes = random.sample(p.pathways_to_genes[random.choice(pathways_with_min_N_genes)], N)\n",
    "same_pathway_genes"
   ]
  },
  {
   "cell_type": "markdown",
   "metadata": {},
   "source": [
    "Then we get N genes from N different pathways"
   ]
  },
  {
   "cell_type": "code",
   "execution_count": 5,
   "metadata": {},
   "outputs": [
    {
     "data": {
      "text/plain": [
       "['VEGFA', 'LEP', 'VEGFA', 'IGF1', 'VEGFB']"
      ]
     },
     "execution_count": 5,
     "metadata": {},
     "output_type": "execute_result"
    }
   ],
   "source": [
    "pathways = random.sample(pathways_with_min_N_genes, N)\n",
    "different_pathway_genes = [random.choice(p.pathways_to_genes[pathway]) for pathway in pathways]\n",
    "different_pathway_genes"
   ]
  },
  {
   "cell_type": "markdown",
   "metadata": {},
   "source": [
    "Then we load both of their counts"
   ]
  },
  {
   "cell_type": "code",
   "execution_count": 6,
   "metadata": {},
   "outputs": [
    {
     "data": {
      "text/html": [
       "<div>\n",
       "<style scoped>\n",
       "    .dataframe tbody tr th:only-of-type {\n",
       "        vertical-align: middle;\n",
       "    }\n",
       "\n",
       "    .dataframe tbody tr th {\n",
       "        vertical-align: top;\n",
       "    }\n",
       "\n",
       "    .dataframe thead th {\n",
       "        text-align: right;\n",
       "    }\n",
       "</style>\n",
       "<table border=\"1\" class=\"dataframe\">\n",
       "  <thead>\n",
       "    <tr style=\"text-align: right;\">\n",
       "      <th></th>\n",
       "      <th>PL1013</th>\n",
       "      <th>PL1015</th>\n",
       "      <th>PL1023</th>\n",
       "      <th>PL1043</th>\n",
       "      <th>PL1159</th>\n",
       "      <th>PL1182</th>\n",
       "      <th>PL1226</th>\n",
       "      <th>PL1362</th>\n",
       "      <th>PL1365</th>\n",
       "      <th>PL1383</th>\n",
       "      <th>...</th>\n",
       "      <th>PL2353</th>\n",
       "      <th>PL2360</th>\n",
       "      <th>PL2406</th>\n",
       "      <th>PL475</th>\n",
       "      <th>PL519</th>\n",
       "      <th>PL629</th>\n",
       "      <th>PL687</th>\n",
       "      <th>PL808</th>\n",
       "      <th>PL810</th>\n",
       "      <th>PL893</th>\n",
       "    </tr>\n",
       "  </thead>\n",
       "  <tbody>\n",
       "    <tr>\n",
       "      <th>ENSG00000112715</th>\n",
       "      <td>0.000000</td>\n",
       "      <td>6.257668</td>\n",
       "      <td>0.000000</td>\n",
       "      <td>5.192957</td>\n",
       "      <td>5.993961</td>\n",
       "      <td>0.000000</td>\n",
       "      <td>0.00000</td>\n",
       "      <td>5.802118</td>\n",
       "      <td>0.000000</td>\n",
       "      <td>6.276643</td>\n",
       "      <td>...</td>\n",
       "      <td>6.352629</td>\n",
       "      <td>7.633854</td>\n",
       "      <td>0.000000</td>\n",
       "      <td>5.347108</td>\n",
       "      <td>4.709530</td>\n",
       "      <td>6.272877</td>\n",
       "      <td>5.723585</td>\n",
       "      <td>5.652489</td>\n",
       "      <td>4.744932</td>\n",
       "      <td>5.402677</td>\n",
       "    </tr>\n",
       "    <tr>\n",
       "      <th>ENSG00000174697</th>\n",
       "      <td>6.716595</td>\n",
       "      <td>3.931826</td>\n",
       "      <td>5.379897</td>\n",
       "      <td>0.000000</td>\n",
       "      <td>0.000000</td>\n",
       "      <td>0.000000</td>\n",
       "      <td>0.00000</td>\n",
       "      <td>5.545177</td>\n",
       "      <td>5.690359</td>\n",
       "      <td>4.356709</td>\n",
       "      <td>...</td>\n",
       "      <td>0.000000</td>\n",
       "      <td>0.000000</td>\n",
       "      <td>8.494334</td>\n",
       "      <td>4.382027</td>\n",
       "      <td>3.091042</td>\n",
       "      <td>6.246107</td>\n",
       "      <td>4.812184</td>\n",
       "      <td>6.717805</td>\n",
       "      <td>6.082219</td>\n",
       "      <td>0.000000</td>\n",
       "    </tr>\n",
       "    <tr>\n",
       "      <th>ENSG00000112715</th>\n",
       "      <td>0.000000</td>\n",
       "      <td>6.257668</td>\n",
       "      <td>0.000000</td>\n",
       "      <td>5.192957</td>\n",
       "      <td>5.993961</td>\n",
       "      <td>0.000000</td>\n",
       "      <td>0.00000</td>\n",
       "      <td>5.802118</td>\n",
       "      <td>0.000000</td>\n",
       "      <td>6.276643</td>\n",
       "      <td>...</td>\n",
       "      <td>6.352629</td>\n",
       "      <td>7.633854</td>\n",
       "      <td>0.000000</td>\n",
       "      <td>5.347108</td>\n",
       "      <td>4.709530</td>\n",
       "      <td>6.272877</td>\n",
       "      <td>5.723585</td>\n",
       "      <td>5.652489</td>\n",
       "      <td>4.744932</td>\n",
       "      <td>5.402677</td>\n",
       "    </tr>\n",
       "    <tr>\n",
       "      <th>ENSG00000017427</th>\n",
       "      <td>7.121252</td>\n",
       "      <td>4.744932</td>\n",
       "      <td>4.430817</td>\n",
       "      <td>3.912023</td>\n",
       "      <td>4.927254</td>\n",
       "      <td>6.895683</td>\n",
       "      <td>0.00000</td>\n",
       "      <td>3.688879</td>\n",
       "      <td>4.962845</td>\n",
       "      <td>0.000000</td>\n",
       "      <td>...</td>\n",
       "      <td>4.382027</td>\n",
       "      <td>3.737670</td>\n",
       "      <td>5.978886</td>\n",
       "      <td>0.000000</td>\n",
       "      <td>0.000000</td>\n",
       "      <td>0.000000</td>\n",
       "      <td>0.000000</td>\n",
       "      <td>5.973810</td>\n",
       "      <td>3.891820</td>\n",
       "      <td>6.513230</td>\n",
       "    </tr>\n",
       "    <tr>\n",
       "      <th>ENSG00000173511</th>\n",
       "      <td>7.381502</td>\n",
       "      <td>6.632002</td>\n",
       "      <td>7.677864</td>\n",
       "      <td>7.649216</td>\n",
       "      <td>6.317165</td>\n",
       "      <td>6.870053</td>\n",
       "      <td>7.63337</td>\n",
       "      <td>7.052721</td>\n",
       "      <td>6.739337</td>\n",
       "      <td>6.740519</td>\n",
       "      <td>...</td>\n",
       "      <td>7.930206</td>\n",
       "      <td>7.288244</td>\n",
       "      <td>7.198184</td>\n",
       "      <td>7.363914</td>\n",
       "      <td>3.637586</td>\n",
       "      <td>6.590301</td>\n",
       "      <td>7.608871</td>\n",
       "      <td>7.956477</td>\n",
       "      <td>7.701200</td>\n",
       "      <td>5.872118</td>\n",
       "    </tr>\n",
       "  </tbody>\n",
       "</table>\n",
       "<p>5 rows × 37 columns</p>\n",
       "</div>"
      ],
      "text/plain": [
       "                   PL1013    PL1015    PL1023    PL1043    PL1159    PL1182  \\\n",
       "ENSG00000112715  0.000000  6.257668  0.000000  5.192957  5.993961  0.000000   \n",
       "ENSG00000174697  6.716595  3.931826  5.379897  0.000000  0.000000  0.000000   \n",
       "ENSG00000112715  0.000000  6.257668  0.000000  5.192957  5.993961  0.000000   \n",
       "ENSG00000017427  7.121252  4.744932  4.430817  3.912023  4.927254  6.895683   \n",
       "ENSG00000173511  7.381502  6.632002  7.677864  7.649216  6.317165  6.870053   \n",
       "\n",
       "                  PL1226    PL1362    PL1365    PL1383  ...    PL2353  \\\n",
       "ENSG00000112715  0.00000  5.802118  0.000000  6.276643  ...  6.352629   \n",
       "ENSG00000174697  0.00000  5.545177  5.690359  4.356709  ...  0.000000   \n",
       "ENSG00000112715  0.00000  5.802118  0.000000  6.276643  ...  6.352629   \n",
       "ENSG00000017427  0.00000  3.688879  4.962845  0.000000  ...  4.382027   \n",
       "ENSG00000173511  7.63337  7.052721  6.739337  6.740519  ...  7.930206   \n",
       "\n",
       "                   PL2360    PL2406     PL475     PL519     PL629     PL687  \\\n",
       "ENSG00000112715  7.633854  0.000000  5.347108  4.709530  6.272877  5.723585   \n",
       "ENSG00000174697  0.000000  8.494334  4.382027  3.091042  6.246107  4.812184   \n",
       "ENSG00000112715  7.633854  0.000000  5.347108  4.709530  6.272877  5.723585   \n",
       "ENSG00000017427  3.737670  5.978886  0.000000  0.000000  0.000000  0.000000   \n",
       "ENSG00000173511  7.288244  7.198184  7.363914  3.637586  6.590301  7.608871   \n",
       "\n",
       "                    PL808     PL810     PL893  \n",
       "ENSG00000112715  5.652489  4.744932  5.402677  \n",
       "ENSG00000174697  6.717805  6.082219  0.000000  \n",
       "ENSG00000112715  5.652489  4.744932  5.402677  \n",
       "ENSG00000017427  5.973810  3.891820  6.513230  \n",
       "ENSG00000173511  7.956477  7.701200  5.872118  \n",
       "\n",
       "[5 rows x 37 columns]"
      ]
     },
     "execution_count": 6,
     "metadata": {},
     "output_type": "execute_result"
    }
   ],
   "source": [
    "different_pathway_counts = np.log1p(pd.read_csv('gene_data/pe-rna-counts.csv', index_col=0)).loc[[to_ensembl[k] for k in different_pathway_genes], :]\n",
    "different_pathway_counts"
   ]
  },
  {
   "cell_type": "code",
   "execution_count": 7,
   "metadata": {},
   "outputs": [
    {
     "data": {
      "text/html": [
       "<div>\n",
       "<style scoped>\n",
       "    .dataframe tbody tr th:only-of-type {\n",
       "        vertical-align: middle;\n",
       "    }\n",
       "\n",
       "    .dataframe tbody tr th {\n",
       "        vertical-align: top;\n",
       "    }\n",
       "\n",
       "    .dataframe thead th {\n",
       "        text-align: right;\n",
       "    }\n",
       "</style>\n",
       "<table border=\"1\" class=\"dataframe\">\n",
       "  <thead>\n",
       "    <tr style=\"text-align: right;\">\n",
       "      <th></th>\n",
       "      <th>PL1013</th>\n",
       "      <th>PL1015</th>\n",
       "      <th>PL1023</th>\n",
       "      <th>PL1043</th>\n",
       "      <th>PL1159</th>\n",
       "      <th>PL1182</th>\n",
       "      <th>PL1226</th>\n",
       "      <th>PL1362</th>\n",
       "      <th>PL1365</th>\n",
       "      <th>PL1383</th>\n",
       "      <th>...</th>\n",
       "      <th>PL2353</th>\n",
       "      <th>PL2360</th>\n",
       "      <th>PL2406</th>\n",
       "      <th>PL475</th>\n",
       "      <th>PL519</th>\n",
       "      <th>PL629</th>\n",
       "      <th>PL687</th>\n",
       "      <th>PL808</th>\n",
       "      <th>PL810</th>\n",
       "      <th>PL893</th>\n",
       "    </tr>\n",
       "  </thead>\n",
       "  <tbody>\n",
       "    <tr>\n",
       "      <th>ENSG00000232810</th>\n",
       "      <td>5.416100</td>\n",
       "      <td>4.644391</td>\n",
       "      <td>4.532599</td>\n",
       "      <td>6.480045</td>\n",
       "      <td>0.000000</td>\n",
       "      <td>6.871091</td>\n",
       "      <td>4.94876</td>\n",
       "      <td>5.318120</td>\n",
       "      <td>0.000000</td>\n",
       "      <td>4.276666</td>\n",
       "      <td>...</td>\n",
       "      <td>6.701960</td>\n",
       "      <td>5.583496</td>\n",
       "      <td>6.109248</td>\n",
       "      <td>3.663562</td>\n",
       "      <td>1.098612</td>\n",
       "      <td>0.000000</td>\n",
       "      <td>0.000000</td>\n",
       "      <td>5.564520</td>\n",
       "      <td>2.708050</td>\n",
       "      <td>4.691348</td>\n",
       "    </tr>\n",
       "    <tr>\n",
       "      <th>ENSG00000150630</th>\n",
       "      <td>7.458186</td>\n",
       "      <td>4.744932</td>\n",
       "      <td>6.115892</td>\n",
       "      <td>5.609472</td>\n",
       "      <td>3.496508</td>\n",
       "      <td>6.610696</td>\n",
       "      <td>0.00000</td>\n",
       "      <td>0.000000</td>\n",
       "      <td>0.000000</td>\n",
       "      <td>6.857514</td>\n",
       "      <td>...</td>\n",
       "      <td>5.283204</td>\n",
       "      <td>4.948760</td>\n",
       "      <td>6.523562</td>\n",
       "      <td>4.897840</td>\n",
       "      <td>2.302585</td>\n",
       "      <td>6.442540</td>\n",
       "      <td>0.000000</td>\n",
       "      <td>6.833032</td>\n",
       "      <td>5.652489</td>\n",
       "      <td>0.000000</td>\n",
       "    </tr>\n",
       "    <tr>\n",
       "      <th>ENSG00000112715</th>\n",
       "      <td>0.000000</td>\n",
       "      <td>6.257668</td>\n",
       "      <td>0.000000</td>\n",
       "      <td>5.192957</td>\n",
       "      <td>5.993961</td>\n",
       "      <td>0.000000</td>\n",
       "      <td>0.00000</td>\n",
       "      <td>5.802118</td>\n",
       "      <td>0.000000</td>\n",
       "      <td>6.276643</td>\n",
       "      <td>...</td>\n",
       "      <td>6.352629</td>\n",
       "      <td>7.633854</td>\n",
       "      <td>0.000000</td>\n",
       "      <td>5.347108</td>\n",
       "      <td>4.709530</td>\n",
       "      <td>6.272877</td>\n",
       "      <td>5.723585</td>\n",
       "      <td>5.652489</td>\n",
       "      <td>4.744932</td>\n",
       "      <td>5.402677</td>\n",
       "    </tr>\n",
       "    <tr>\n",
       "      <th>ENSG00000173511</th>\n",
       "      <td>7.381502</td>\n",
       "      <td>6.632002</td>\n",
       "      <td>7.677864</td>\n",
       "      <td>7.649216</td>\n",
       "      <td>6.317165</td>\n",
       "      <td>6.870053</td>\n",
       "      <td>7.63337</td>\n",
       "      <td>7.052721</td>\n",
       "      <td>6.739337</td>\n",
       "      <td>6.740519</td>\n",
       "      <td>...</td>\n",
       "      <td>7.930206</td>\n",
       "      <td>7.288244</td>\n",
       "      <td>7.198184</td>\n",
       "      <td>7.363914</td>\n",
       "      <td>3.637586</td>\n",
       "      <td>6.590301</td>\n",
       "      <td>7.608871</td>\n",
       "      <td>7.956477</td>\n",
       "      <td>7.701200</td>\n",
       "      <td>5.872118</td>\n",
       "    </tr>\n",
       "    <tr>\n",
       "      <th>ENSG00000174697</th>\n",
       "      <td>6.716595</td>\n",
       "      <td>3.931826</td>\n",
       "      <td>5.379897</td>\n",
       "      <td>0.000000</td>\n",
       "      <td>0.000000</td>\n",
       "      <td>0.000000</td>\n",
       "      <td>0.00000</td>\n",
       "      <td>5.545177</td>\n",
       "      <td>5.690359</td>\n",
       "      <td>4.356709</td>\n",
       "      <td>...</td>\n",
       "      <td>0.000000</td>\n",
       "      <td>0.000000</td>\n",
       "      <td>8.494334</td>\n",
       "      <td>4.382027</td>\n",
       "      <td>3.091042</td>\n",
       "      <td>6.246107</td>\n",
       "      <td>4.812184</td>\n",
       "      <td>6.717805</td>\n",
       "      <td>6.082219</td>\n",
       "      <td>0.000000</td>\n",
       "    </tr>\n",
       "  </tbody>\n",
       "</table>\n",
       "<p>5 rows × 37 columns</p>\n",
       "</div>"
      ],
      "text/plain": [
       "                   PL1013    PL1015    PL1023    PL1043    PL1159    PL1182  \\\n",
       "ENSG00000232810  5.416100  4.644391  4.532599  6.480045  0.000000  6.871091   \n",
       "ENSG00000150630  7.458186  4.744932  6.115892  5.609472  3.496508  6.610696   \n",
       "ENSG00000112715  0.000000  6.257668  0.000000  5.192957  5.993961  0.000000   \n",
       "ENSG00000173511  7.381502  6.632002  7.677864  7.649216  6.317165  6.870053   \n",
       "ENSG00000174697  6.716595  3.931826  5.379897  0.000000  0.000000  0.000000   \n",
       "\n",
       "                  PL1226    PL1362    PL1365    PL1383  ...    PL2353  \\\n",
       "ENSG00000232810  4.94876  5.318120  0.000000  4.276666  ...  6.701960   \n",
       "ENSG00000150630  0.00000  0.000000  0.000000  6.857514  ...  5.283204   \n",
       "ENSG00000112715  0.00000  5.802118  0.000000  6.276643  ...  6.352629   \n",
       "ENSG00000173511  7.63337  7.052721  6.739337  6.740519  ...  7.930206   \n",
       "ENSG00000174697  0.00000  5.545177  5.690359  4.356709  ...  0.000000   \n",
       "\n",
       "                   PL2360    PL2406     PL475     PL519     PL629     PL687  \\\n",
       "ENSG00000232810  5.583496  6.109248  3.663562  1.098612  0.000000  0.000000   \n",
       "ENSG00000150630  4.948760  6.523562  4.897840  2.302585  6.442540  0.000000   \n",
       "ENSG00000112715  7.633854  0.000000  5.347108  4.709530  6.272877  5.723585   \n",
       "ENSG00000173511  7.288244  7.198184  7.363914  3.637586  6.590301  7.608871   \n",
       "ENSG00000174697  0.000000  8.494334  4.382027  3.091042  6.246107  4.812184   \n",
       "\n",
       "                    PL808     PL810     PL893  \n",
       "ENSG00000232810  5.564520  2.708050  4.691348  \n",
       "ENSG00000150630  6.833032  5.652489  0.000000  \n",
       "ENSG00000112715  5.652489  4.744932  5.402677  \n",
       "ENSG00000173511  7.956477  7.701200  5.872118  \n",
       "ENSG00000174697  6.717805  6.082219  0.000000  \n",
       "\n",
       "[5 rows x 37 columns]"
      ]
     },
     "execution_count": 7,
     "metadata": {},
     "output_type": "execute_result"
    }
   ],
   "source": [
    "same_pathway_counts = np.log1p(pd.read_csv('gene_data/pe-rna-counts.csv', index_col=0)).loc[[to_ensembl[k] for k in same_pathway_genes], :]\n",
    "same_pathway_counts"
   ]
  },
  {
   "cell_type": "markdown",
   "metadata": {},
   "source": [
    "And then we load the ground truth for the logistic regression model"
   ]
  },
  {
   "cell_type": "code",
   "execution_count": 8,
   "metadata": {},
   "outputs": [
    {
     "data": {
      "text/html": [
       "<div>\n",
       "<style scoped>\n",
       "    .dataframe tbody tr th:only-of-type {\n",
       "        vertical-align: middle;\n",
       "    }\n",
       "\n",
       "    .dataframe tbody tr th {\n",
       "        vertical-align: top;\n",
       "    }\n",
       "\n",
       "    .dataframe thead th {\n",
       "        text-align: right;\n",
       "    }\n",
       "</style>\n",
       "<table border=\"1\" class=\"dataframe\">\n",
       "  <thead>\n",
       "    <tr style=\"text-align: right;\">\n",
       "      <th></th>\n",
       "      <th>PL1013</th>\n",
       "      <th>PL1015</th>\n",
       "      <th>PL1023</th>\n",
       "      <th>PL1043</th>\n",
       "      <th>PL1159</th>\n",
       "      <th>PL1182</th>\n",
       "      <th>PL1226</th>\n",
       "      <th>PL1362</th>\n",
       "      <th>PL1365</th>\n",
       "      <th>PL1383</th>\n",
       "      <th>...</th>\n",
       "      <th>PL2353</th>\n",
       "      <th>PL2360</th>\n",
       "      <th>PL2406</th>\n",
       "      <th>PL475</th>\n",
       "      <th>PL519</th>\n",
       "      <th>PL629</th>\n",
       "      <th>PL687</th>\n",
       "      <th>PL808</th>\n",
       "      <th>PL810</th>\n",
       "      <th>PL893</th>\n",
       "    </tr>\n",
       "  </thead>\n",
       "  <tbody>\n",
       "    <tr>\n",
       "      <th>0</th>\n",
       "      <td>Control</td>\n",
       "      <td>Mild</td>\n",
       "      <td>Mild</td>\n",
       "      <td>Mild</td>\n",
       "      <td>Control</td>\n",
       "      <td>Control</td>\n",
       "      <td>Severe</td>\n",
       "      <td>Mild</td>\n",
       "      <td>Control</td>\n",
       "      <td>Severe</td>\n",
       "      <td>...</td>\n",
       "      <td>Mild</td>\n",
       "      <td>Severe</td>\n",
       "      <td>Severe</td>\n",
       "      <td>Severe</td>\n",
       "      <td>Severe</td>\n",
       "      <td>Severe</td>\n",
       "      <td>Mild</td>\n",
       "      <td>Mild</td>\n",
       "      <td>Mild</td>\n",
       "      <td>Severe</td>\n",
       "    </tr>\n",
       "  </tbody>\n",
       "</table>\n",
       "<p>1 rows × 37 columns</p>\n",
       "</div>"
      ],
      "text/plain": [
       "    PL1013 PL1015 PL1023 PL1043   PL1159   PL1182  PL1226 PL1362   PL1365  \\\n",
       "0  Control   Mild   Mild   Mild  Control  Control  Severe   Mild  Control   \n",
       "\n",
       "   PL1383  ... PL2353  PL2360  PL2406   PL475   PL519   PL629 PL687 PL808  \\\n",
       "0  Severe  ...   Mild  Severe  Severe  Severe  Severe  Severe  Mild  Mild   \n",
       "\n",
       "  PL810   PL893  \n",
       "0  Mild  Severe  \n",
       "\n",
       "[1 rows x 37 columns]"
      ]
     },
     "execution_count": 8,
     "metadata": {},
     "output_type": "execute_result"
    }
   ],
   "source": [
    "raw_meta = pd.read_csv('gene_data/pe-rna-metadata.csv',header=None, names=[\"sample\", \"classification\"]).T\n",
    "catagorical_ground_truth  = pd.DataFrame(raw_meta.values[1:], columns=raw_meta.iloc[0])\n",
    "catagorical_ground_truth.columns.name = None\n",
    "catagorical_ground_truth"
   ]
  },
  {
   "cell_type": "markdown",
   "metadata": {},
   "source": [
    "But this is not quite right because we are doing case-ctrl, while this is Control vs Severe vs Mild"
   ]
  },
  {
   "cell_type": "code",
   "execution_count": 9,
   "metadata": {},
   "outputs": [
    {
     "data": {
      "text/plain": [
       "['ctrl',\n",
       " 'case',\n",
       " 'case',\n",
       " 'case',\n",
       " 'ctrl',\n",
       " 'ctrl',\n",
       " 'case',\n",
       " 'case',\n",
       " 'ctrl',\n",
       " 'case',\n",
       " 'case',\n",
       " 'ctrl',\n",
       " 'ctrl',\n",
       " 'ctrl',\n",
       " 'case',\n",
       " 'ctrl',\n",
       " 'case',\n",
       " 'ctrl',\n",
       " 'case',\n",
       " 'case',\n",
       " 'case',\n",
       " 'case',\n",
       " 'case',\n",
       " 'case',\n",
       " 'case',\n",
       " 'case',\n",
       " 'case',\n",
       " 'case',\n",
       " 'case',\n",
       " 'case',\n",
       " 'case',\n",
       " 'case',\n",
       " 'case',\n",
       " 'case',\n",
       " 'case',\n",
       " 'case',\n",
       " 'case']"
      ]
     },
     "execution_count": 9,
     "metadata": {},
     "output_type": "execute_result"
    }
   ],
   "source": [
    "ground_truth = [{\"Control\": \"ctrl\", \"Severe\": \"case\", \"Mild\": \"case\"}.get(item, item) for item in list(catagorical_ground_truth.loc[0])]\n",
    "ground_truth"
   ]
  },
  {
   "cell_type": "markdown",
   "metadata": {},
   "source": [
    "As you can see, the sample names are in the same order for the counts and for the ground truth so we don't have to sort them"
   ]
  },
  {
   "cell_type": "code",
   "execution_count": 10,
   "metadata": {},
   "outputs": [
    {
     "data": {
      "text/plain": [
       "array([ True,  True,  True,  True,  True,  True,  True,  True,  True,\n",
       "        True,  True,  True,  True,  True,  True,  True,  True,  True,\n",
       "        True,  True,  True,  True,  True,  True,  True,  True,  True,\n",
       "        True,  True,  True,  True,  True,  True,  True,  True,  True,\n",
       "        True])"
      ]
     },
     "execution_count": 10,
     "metadata": {},
     "output_type": "execute_result"
    }
   ],
   "source": [
    "catagorical_ground_truth.columns == same_pathway_counts.columns"
   ]
  },
  {
   "cell_type": "code",
   "execution_count": 11,
   "metadata": {},
   "outputs": [
    {
     "data": {
      "text/plain": [
       "array([ True,  True,  True,  True,  True,  True,  True,  True,  True,\n",
       "        True,  True,  True,  True,  True,  True,  True,  True,  True,\n",
       "        True,  True,  True,  True,  True,  True,  True,  True,  True,\n",
       "        True,  True,  True,  True,  True,  True,  True,  True,  True,\n",
       "        True])"
      ]
     },
     "execution_count": 11,
     "metadata": {},
     "output_type": "execute_result"
    }
   ],
   "source": [
    "catagorical_ground_truth.columns == different_pathway_counts.columns"
   ]
  },
  {
   "cell_type": "markdown",
   "metadata": {},
   "source": [
    "Then we create a logistic regression model"
   ]
  },
  {
   "cell_type": "code",
   "execution_count": 19,
   "metadata": {},
   "outputs": [],
   "source": [
    "logreg = LogisticRegression()"
   ]
  },
  {
   "cell_type": "markdown",
   "metadata": {},
   "source": [
    "What is the accuracy for counts of using only genes on the same pathway? Note that I am not doing any test/train splitting"
   ]
  },
  {
   "cell_type": "code",
   "execution_count": 20,
   "metadata": {},
   "outputs": [
    {
     "data": {
      "text/plain": [
       "0.8918918918918919"
      ]
     },
     "execution_count": 20,
     "metadata": {},
     "output_type": "execute_result"
    }
   ],
   "source": [
    "logreg.fit(same_pathway_counts.T, ground_truth)\n",
    "y_pred = logreg.predict(same_pathway_counts.T)\n",
    "accuracy = y_pred==ground_truth\n",
    "sum(accuracy)/len(accuracy)"
   ]
  },
  {
   "cell_type": "markdown",
   "metadata": {},
   "source": [
    "What about the accuracy using only genes on different pathways?"
   ]
  },
  {
   "cell_type": "code",
   "execution_count": 21,
   "metadata": {},
   "outputs": [
    {
     "data": {
      "text/plain": [
       "0.8918918918918919"
      ]
     },
     "execution_count": 21,
     "metadata": {},
     "output_type": "execute_result"
    }
   ],
   "source": [
    "logreg.fit(different_pathway_counts.T, ground_truth)\n",
    "y_pred = logreg.predict(different_pathway_counts.T)\n",
    "accuracy = y_pred==list(ground_truth)\n",
    "sum(accuracy)/len(accuracy)"
   ]
  },
  {
   "cell_type": "markdown",
   "metadata": {},
   "source": [
    "This is promising!"
   ]
  }
 ],
 "metadata": {
  "kernelspec": {
   "display_name": "base",
   "language": "python",
   "name": "python3"
  },
  "language_info": {
   "codemirror_mode": {
    "name": "ipython",
    "version": 3
   },
   "file_extension": ".py",
   "mimetype": "text/x-python",
   "name": "python",
   "nbconvert_exporter": "python",
   "pygments_lexer": "ipython3",
   "version": "3.11.8"
  }
 },
 "nbformat": 4,
 "nbformat_minor": 2
}
