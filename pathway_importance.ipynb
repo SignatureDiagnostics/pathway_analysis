{
 "cells": [
  {
   "cell_type": "code",
   "execution_count": 1,
   "metadata": {},
   "outputs": [
    {
     "name": "stderr",
     "output_type": "stream",
     "text": [
      "100%|██████████| 73/73 [00:18<00:00,  4.03it/s]\n"
     ]
    }
   ],
   "source": [
    "import pandas as pd\n",
    "import numpy as np\n",
    "np.random.seed(42)\n",
    "from sklearn.linear_model import LogisticRegression\n",
    "from tqdm import tqdm\n",
    "import re\n",
    "from collections import defaultdict\n",
    "import requests\n",
    "N = 5\n",
    "raw_meta = pd.read_csv('gene_data/pe-rna-metadata.csv',header=None, names=[\"sample\", \"classification\"]).T\n",
    "catagorical_ground_truth  = pd.DataFrame(raw_meta.values[1:], columns=raw_meta.iloc[0])\n",
    "catagorical_ground_truth.columns.name = None\n",
    "ground_truth = [{\"Control\": \"ctrl\", \"Severe\": \"case\", \"Mild\": \"case\"}.get(item, item) for item in list(catagorical_ground_truth.loc[0])]\n",
    "to_name = pd.read_csv('gene_data/genes.csv').set_index(\"code\")[\"name\"].to_dict()\n",
    "to_ensembl = pd.read_csv('gene_data/genes.csv').set_index(\"name\")[\"code\"].to_dict()\n",
    "unfiltered_counts = np.log1p(pd.read_csv('gene_data/pe-rna-counts.csv', index_col=0))\n",
    "codes = [g for g in list(pd.read_csv('gene_data/genes.csv')[\"code\"]) if g in unfiltered_counts.index]\n",
    "counts = unfiltered_counts.loc[list(set(codes))]\n",
    "genes = list(set([to_name[x] for x in codes]))\n",
    "\n",
    "\n",
    "d = {}\n",
    "for g in tqdm(genes):\n",
    "    d[g] = re.findall(\n",
    "        r'\"name\":\"(.*?)\",\"dataSource\":',\n",
    "        requests.get(\n",
    "            \"https://www.pathwaycommons.org/pc2/top_pathways?q=\" + g\n",
    "        ).text,\n",
    "    )\n",
    "\n",
    "pathways_to_genes = defaultdict(list)\n",
    "for gene, pathways in d.items():\n",
    "    for pathway in pathways:\n",
    "        pathways_to_genes[pathway].append(gene)\n",
    "pathways_to_genes = dict(pathways_to_genes)"
   ]
  },
  {
   "cell_type": "markdown",
   "metadata": {},
   "source": [
    "### Which pathways are most important in the logistic regression?"
   ]
  },
  {
   "cell_type": "code",
   "execution_count": 2,
   "metadata": {},
   "outputs": [],
   "source": [
    "logreg = LogisticRegression(tol=1e-8, random_state=5)\n",
    "logreg.fit(counts.T, ground_truth)\n",
    "coef = pd.DataFrame(logreg.coef_[0], index=counts.index).T\n",
    "coef.columns = [to_name[x] for x in coef.columns]"
   ]
  },
  {
   "cell_type": "markdown",
   "metadata": {},
   "source": [
    "To determine which pathways are the most signficant, we run through each pathway and get the mean nonnegative coefficent for all the genes in the pathway\n",
    "\n",
    "Then we print the ten most signficant pathways"
   ]
  },
  {
   "cell_type": "code",
   "execution_count": 3,
   "metadata": {},
   "outputs": [
    {
     "name": "stderr",
     "output_type": "stream",
     "text": [
      "/home/punky/anaconda3/lib/python3.11/site-packages/numpy/core/fromnumeric.py:3504: RuntimeWarning: Mean of empty slice.\n",
      "  return _methods._mean(a, axis=axis, dtype=dtype,\n",
      "/home/punky/anaconda3/lib/python3.11/site-packages/numpy/core/_methods.py:129: RuntimeWarning: invalid value encountered in scalar divide\n",
      "  ret = ret.dtype.type(ret / rcount)\n"
     ]
    },
    {
     "data": {
      "text/plain": [
       "['IGF1 pathway',\n",
       " 'IGF1 signaling pathway ( IGF1 signaling pathway )',\n",
       " 'Stabilization and expansion of the E-cadherin adherens junction',\n",
       " 'Ceramide signaling pathway',\n",
       " 'Developmental Biology',\n",
       " 'Plasma membrane estrogen receptor signaling',\n",
       " 'SHP2 signaling',\n",
       " 'Insulin/IGF pathway-protein kinase B signaling cascade',\n",
       " 'Insulin/IGF pathway-mitogen activated protein kinase kinase/MAP kinase cascade',\n",
       " 'Integrins in angiogenesis']"
      ]
     },
     "execution_count": 3,
     "metadata": {},
     "output_type": "execute_result"
    }
   ],
   "source": [
    "d = {}\n",
    "for pathway, genes in pathways_to_genes.items():\n",
    "    d[pathway] = np.mean([coef[gene].values[0] for gene in genes if coef[gene].values[0] >=0])\n",
    "top_pathways = sorted(d, key=d.get, reverse=True)[:10]\n",
    "top_pathways"
   ]
  },
  {
   "cell_type": "markdown",
   "metadata": {},
   "source": [
    "And these are the genes which corespond to the pathways"
   ]
  },
  {
   "cell_type": "code",
   "execution_count": 4,
   "metadata": {},
   "outputs": [
    {
     "data": {
      "text/plain": [
       "[['IGF1'],\n",
       " ['IGF1'],\n",
       " ['IGF1'],\n",
       " ['IGF1', 'TNF'],\n",
       " ['IGF1'],\n",
       " ['IGF1', 'NOS3'],\n",
       " ['IGF1', 'NOS3', 'VEGFA'],\n",
       " ['IGF1', 'IGF2', 'IGF2R'],\n",
       " ['IGF1', 'IGF2', 'IGF2R'],\n",
       " ['IGF1', 'FN1', 'CSF1', 'VEGFA', 'ITGB3']]"
      ]
     },
     "execution_count": 4,
     "metadata": {},
     "output_type": "execute_result"
    }
   ],
   "source": [
    "[pathways_to_genes[path] for path in top_pathways]"
   ]
  },
  {
   "cell_type": "code",
   "execution_count": null,
   "metadata": {},
   "outputs": [],
   "source": []
  }
 ],
 "metadata": {
  "kernelspec": {
   "display_name": "base",
   "language": "python",
   "name": "python3"
  },
  "language_info": {
   "codemirror_mode": {
    "name": "ipython",
    "version": 3
   },
   "file_extension": ".py",
   "mimetype": "text/x-python",
   "name": "python",
   "nbconvert_exporter": "python",
   "pygments_lexer": "ipython3",
   "version": "3.11.8"
  }
 },
 "nbformat": 4,
 "nbformat_minor": 2
}
